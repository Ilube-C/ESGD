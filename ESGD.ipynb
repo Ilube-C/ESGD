{
  "nbformat": 4,
  "nbformat_minor": 0,
  "metadata": {
    "colab": {
      "provenance": []
    },
    "kernelspec": {
      "name": "python3",
      "display_name": "Python 3"
    },
    "language_info": {
      "name": "python"
    }
  },
  "cells": [
    {
      "cell_type": "markdown",
      "source": [
        "#Introduction\n",
        "\"This tutorial is a JAX implementation of ESGD (Evolutionary Stochastic Gradient Descent), ported from the original PyTorch version.\" ESGD is a technique proposed by [Cui et al (2018)](https://proceedings.neurips.cc/paper/2018/hash/62da8c91ce7b10846231921795d6059e-Abstract.html) that combines SGD and coevolution to optimize a neural network.\n",
        "\n",
        "This tutorial explains the key elements of the algorithm used in the paper and provides an implementation at a reduced scale.\n",
        "\n",
        "\n",
        "\n",
        "\n",
        "# Background\n",
        "\n",
        "# What are Evolutionary Algorithms?\n",
        "\n",
        "Optimising machine learning models requires minimising loss with respect to the model's parameters. When parameter space is high dimensional (e.g., neural networks) the loss function can contain many local minima. Optimisation algorithms that solely rely on gradient descent are prone to becoming trapped in these local minima, converging at a suboptimal solution. Many techniques have been proposed to overcome this, such as momentum, which adjusts the learning rate dynamically during training to avoid getting trapped and reach convergance faster.\n",
        "\n",
        "[Evolutionary Algorithms](https://www.sciencedirect.com/topics/computer-science/evolutionary-algorithms) are an alternative to gradient descent first proposed by [Lawrence J Fogel (1966)](https://scholar.google.com/scholar_lookup?&title=Artificial%20Intelligence%20through%20Simulated%20Evolution&publication_year=1966&author=Fogel%2CL.J.&author=Owens%2CA.J.&author=Walsh%2CM.J.). Instead of computing gradient vectors, they simulate evolution in a population of models to reach optimal performance, leveraging a range of biology inspired techniques. These can help training runs avoid local minima but come at the computational cost of maintaining a population of models, hence why they have seen little practical application since their inception.  \n",
        "\n",
        "#What is ESGD?\n",
        "ESGD is an algorithm that trains a population of neural networks by alternating between SGD and coevolution, combining the benefits of both methods. I will demonstrate its effectiveness on synthetic data.\n",
        "\n"
      ],
      "metadata": {
        "id": "UAMlxsiCslEp"
      }
    },
    {
      "cell_type": "markdown",
      "source": [
        "Import libraries"
      ],
      "metadata": {
        "id": "Bd3uqWfbyRUA"
      }
    },
    {
      "cell_type": "code",
      "source": [
        "import time\n",
        "import matplotlib.pyplot as plt\n",
        "import numpy as np\n",
        "import copy\n",
        "\n",
        "import jax\n",
        "import jax.numpy as jnp\n",
        "from jax import grad, value_and_grad, random\n",
        "from sklearn.datasets import make_classification\n",
        "from sklearn.model_selection import train_test_split\n",
        "import optax\n"
      ],
      "metadata": {
        "id": "HRW-CmweyjxI"
      },
      "execution_count": 2,
      "outputs": []
    },
    {
      "cell_type": "markdown",
      "source": [
        "First lets generate some data"
      ],
      "metadata": {
        "id": "6QrPefu5yrhr"
      }
    },
    {
      "cell_type": "code",
      "source": [
        "#random seed\n",
        "seed = int(time.time())\n",
        "\n",
        "# Synthetic data from sklearn\n",
        "X, y = make_classification(\n",
        "    n_samples=200,\n",
        "    n_features=10,\n",
        "    n_informative=7,\n",
        "    n_redundant=3,\n",
        "    n_classes=3,\n",
        "    random_state=seed)\n",
        "\n",
        "# Convert to JAX\n",
        "X = jnp.array(X)\n",
        "y = jnp.array(y)\n",
        "\n",
        "# Split into train and test\n",
        "X_train, X_test, y_train, y_test = train_test_split(X, y, test_size=0.3, random_state=1)\n",
        "\n",
        "# One-hot encode labels\n",
        "def one_hot(y, num_classes):\n",
        "    return jnp.eye(num_classes)[y]\n",
        "\n",
        "num_classes = int(jnp.max(y)) + 1\n",
        "y_train_oh = one_hot(y_train, num_classes)\n",
        "y_test_oh = one_hot(y_test, num_classes)"
      ],
      "metadata": {
        "id": "--nhfprbzHLe"
      },
      "execution_count": 73,
      "outputs": []
    },
    {
      "cell_type": "markdown",
      "source": [
        "Now we will define functions that create and run our model"
      ],
      "metadata": {
        "id": "TVyQL5GjziwJ"
      }
    },
    {
      "cell_type": "code",
      "source": [
        "\n",
        "layer_sizes = [10, 32, 16, 3]\n",
        "step_size = 0.01\n",
        "\n",
        "#create a set of random parameters\n",
        "def init_layer_params(m, n, key):\n",
        "    w_key, b_key = random.split(key)\n",
        "    w = random.normal(w_key, (m, n)) * jnp.sqrt(2.0 / m)\n",
        "    b = jnp.zeros(n)\n",
        "    return (w, b)\n",
        "\n",
        "#initialise a model\n",
        "def init_model(sizes, key):\n",
        "    keys = random.split(key, len(sizes) - 1)\n",
        "    return [init_layer_params(m, n, k) for m, n, k in zip(sizes[:-1], sizes[1:], keys)]\n",
        "\n",
        "#generate predictions from our model\n",
        "def predict(params, x):\n",
        "    for w, b in params[:-1]:\n",
        "        x = jax.nn.relu(jnp.dot(x, w) + b)\n",
        "    w_last, b_last = params[-1]\n",
        "    logits = jnp.dot(x, w_last) + b_last\n",
        "    return jax.nn.log_softmax(logits)\n",
        "\n",
        "#calculate the loss of our model\n",
        "def loss(params, x, y):\n",
        "    log_probs = predict(params, x)\n",
        "    return -jnp.mean(jnp.sum(log_probs * y, axis=1))\n",
        "\n",
        "#calculate the accuracy of our model\n",
        "def accuracy(params, x, y):\n",
        "    pred = jnp.argmax(predict(params, x), axis=1)\n",
        "    true = jnp.argmax(y, axis=1)\n",
        "    return jnp.mean(pred == true)\n"
      ],
      "metadata": {
        "id": "YUoqjDB4zuKO"
      },
      "execution_count": 41,
      "outputs": []
    },
    {
      "cell_type": "markdown",
      "source": [
        "\"Update\" will move our model's parameters by the gradient vector representing the direction of least loss. \"Get_batches\" randomly partitions our data for batched training."
      ],
      "metadata": {
        "id": "htnX2EC60xxt"
      }
    },
    {
      "cell_type": "code",
      "source": [
        "\n",
        "@jax.jit\n",
        "#update function to be used with or without Adam Optimizer\n",
        "def update(params, x, y, opt_state=None):\n",
        "    loss_val, grads = value_and_grad(loss)(params, x, y)\n",
        "    #print(opt_state)\n",
        "    if opt_state is not None:\n",
        "      updates, opt_state = optimizer.update(grads, opt_state)\n",
        "      params = optax.apply_updates(params, updates)\n",
        "      return params, opt_state, loss_val\n",
        "    else:\n",
        "      return [(w - step_size * dw, b - step_size * db)\n",
        "            for (w, b), (dw, db) in zip(params, grads)], None, loss_val\n",
        "\n",
        "\n",
        "def get_batches(X, y, batch_size, rng_key):\n",
        "    indices = jax.random.permutation(rng_key, len(X))\n",
        "    X_shuffled = X[indices]\n",
        "    y_shuffled = y[indices]\n",
        "    for i in range(0, len(X), batch_size):\n",
        "        yield X_shuffled[i:i + batch_size], y_shuffled[i:i + batch_size]\n"
      ],
      "metadata": {
        "id": "2z0SIOKo0ynl"
      },
      "execution_count": 42,
      "outputs": []
    },
    {
      "cell_type": "markdown",
      "source": [
        "Now lets initialise two SGD models, with and without [adaptive momentum](https://jamhuri.medium.com/understanding-the-adam-optimization-algorithm-a-deep-dive-into-the-formulas-3ac5fc5b7cd3), and compare their performance."
      ],
      "metadata": {
        "id": "REWLQDKq1nPx"
      }
    },
    {
      "cell_type": "code",
      "source": [
        "layer_sizes = [10, 32, 16, 3]\n",
        "step_size = 0.01\n",
        "\n",
        "key = random.PRNGKey(seed)\n",
        "\n",
        "keys = random.split(key, 2)\n",
        "\n",
        "#base model\n",
        "params_base = init_model(layer_sizes, keys[0])\n",
        "\n",
        "#adam model\n",
        "params_opt = init_model(layer_sizes, keys[1])\n",
        "optimizer = optax.adam(learning_rate=0.001)\n",
        "opt_state = optimizer.init(params_opt)\n",
        "\n",
        "\n",
        "base_train = []\n",
        "base_test = []\n",
        "base_loss = []\n",
        "opt_train = []\n",
        "opt_test = []\n",
        "opt_loss = []\n",
        "\n",
        "batch_size = 32\n",
        "num_epochs = 101\n",
        "main_key = random.key(seed)\n",
        "\n",
        "\n",
        "#training loop\n",
        "for epoch in range(num_epochs):\n",
        "\n",
        "    main_key, subkey = jax.random.split(main_key)\n",
        "\n",
        "    for x_batch, y_batch in get_batches(X_train, y_train_oh, batch_size, subkey):\n",
        "      params_base, dummy, train_loss = update(params_base,  x_batch, y_batch)\n",
        "\n",
        "    train_acc = accuracy(params_base, X_train, y_train_oh)\n",
        "    test_acc = accuracy(params_base, X_test, y_test_oh)\n",
        "    train_loss = loss(params_base, X_train, y_train_oh)\n",
        "\n",
        "    base_train.append(train_acc)\n",
        "    base_test.append(test_acc)\n",
        "    base_loss.append(train_loss)\n",
        "\n",
        "    if epoch % 10 == 0:\n",
        "      print(f\"Epoch {epoch:03d}: BASE Train Acc = {train_acc:.4f}, BASE Test Acc = {test_acc:.4f}, BASE Loss = {train_loss:.4f}\")\n",
        "\n",
        "    for x_batch, y_batch in get_batches(X_train, y_train_oh, batch_size, subkey):\n",
        "      params_opt, opt_state, train_loss = update(params_opt, x_batch, y_batch, opt_state)\n",
        "\n",
        "    train_acc = accuracy(params_opt, X_train, y_train_oh)\n",
        "    test_acc = accuracy(params_opt, X_test, y_test_oh)\n",
        "    train_loss = loss(params_opt, X_train, y_train_oh)\n",
        "\n",
        "    opt_train.append(train_acc)\n",
        "    opt_test.append(test_acc)\n",
        "    opt_loss.append(train_loss)\n",
        "\n",
        "\n",
        "    if epoch % 10 == 0:\n",
        "      print(f\"Epoch {epoch:03d}: OPT Train Acc = {train_acc:.4f}, OPT Test Acc = {test_acc:.4f}, OPT Loss = {train_loss:.4f}\")\n",
        "\n",
        "plt.plot(range(num_epochs), base_test, label = \"Baseline Accuracy\")\n",
        "\n",
        "plt.plot(range(num_epochs), opt_test, label = \"Opt Accuracy\")\n",
        "\n",
        "\n",
        "plt.xlabel(\"Epoch\")\n",
        "plt.ylabel(\"Accuracy\")\n",
        "plt.legend()\n",
        "plt.show()"
      ],
      "metadata": {
        "colab": {
          "base_uri": "https://localhost:8080/",
          "height": 831
        },
        "id": "RqOP3XKP2Fq4",
        "outputId": "97bf0f9b-6d29-4911-c05d-5f6c153ca7c5"
      },
      "execution_count": 81,
      "outputs": [
        {
          "output_type": "stream",
          "name": "stdout",
          "text": [
            "Epoch 000: BASE Train Acc = 0.5143, BASE Test Acc = 0.3667, BASE Loss = 1.2068\n",
            "Epoch 000: OPT Train Acc = 0.2857, OPT Test Acc = 0.2833, OPT Loss = 1.8736\n",
            "Epoch 010: BASE Train Acc = 0.6571, BASE Test Acc = 0.5333, BASE Loss = 0.7951\n",
            "Epoch 010: OPT Train Acc = 0.5429, OPT Test Acc = 0.5167, OPT Loss = 0.9904\n",
            "Epoch 020: BASE Train Acc = 0.7500, BASE Test Acc = 0.5500, BASE Loss = 0.6567\n",
            "Epoch 020: OPT Train Acc = 0.6857, OPT Test Acc = 0.5667, OPT Loss = 0.7444\n",
            "Epoch 030: BASE Train Acc = 0.8000, BASE Test Acc = 0.6167, BASE Loss = 0.5732\n",
            "Epoch 030: OPT Train Acc = 0.7357, OPT Test Acc = 0.5833, OPT Loss = 0.6041\n",
            "Epoch 040: BASE Train Acc = 0.8214, BASE Test Acc = 0.6667, BASE Loss = 0.5094\n",
            "Epoch 040: OPT Train Acc = 0.7786, OPT Test Acc = 0.6000, OPT Loss = 0.5209\n",
            "Epoch 050: BASE Train Acc = 0.8286, BASE Test Acc = 0.6833, BASE Loss = 0.4509\n",
            "Epoch 050: OPT Train Acc = 0.8071, OPT Test Acc = 0.6000, OPT Loss = 0.4628\n",
            "Epoch 060: BASE Train Acc = 0.8429, BASE Test Acc = 0.7000, BASE Loss = 0.4061\n",
            "Epoch 060: OPT Train Acc = 0.8286, OPT Test Acc = 0.6667, OPT Loss = 0.4149\n",
            "Epoch 070: BASE Train Acc = 0.8429, BASE Test Acc = 0.7000, BASE Loss = 0.3715\n",
            "Epoch 070: OPT Train Acc = 0.8643, OPT Test Acc = 0.6833, OPT Loss = 0.3732\n",
            "Epoch 080: BASE Train Acc = 0.8714, BASE Test Acc = 0.7000, BASE Loss = 0.3407\n",
            "Epoch 080: OPT Train Acc = 0.8643, OPT Test Acc = 0.7167, OPT Loss = 0.3373\n",
            "Epoch 090: BASE Train Acc = 0.8857, BASE Test Acc = 0.7000, BASE Loss = 0.3160\n",
            "Epoch 090: OPT Train Acc = 0.8786, OPT Test Acc = 0.7333, OPT Loss = 0.3060\n",
            "Epoch 100: BASE Train Acc = 0.9071, BASE Test Acc = 0.7333, BASE Loss = 0.2936\n",
            "Epoch 100: OPT Train Acc = 0.9071, OPT Test Acc = 0.7500, OPT Loss = 0.2769\n"
          ]
        },
        {
          "output_type": "display_data",
          "data": {
            "text/plain": [
              "<Figure size 640x480 with 1 Axes>"
            ],
            "image/png": "[encoded data removed]"
          },
          "metadata": {}
        }
      ]
    },
    {
      "cell_type": "markdown",
      "source": [
        "As expected, the baseline model converges faster, owing its step size of 0.01 > 0.001, the learning rate of our optimizer. However the optimizer surpasses it using momentum to escape local minima."
      ],
      "metadata": {
        "id": "z6zvKKmW34_9"
      }
    },
    {
      "cell_type": "markdown",
      "source": [
        "Now lets compare their performance with ESGD. First we need a population of models to coevolve."
      ],
      "metadata": {
        "id": "OVrgrJlI5hEm"
      }
    },
    {
      "cell_type": "code",
      "source": [
        "population_size = 20\n",
        "key = random.PRNGKey(seed)\n",
        "\n",
        "keys = random.split(key, population_size + 3)\n",
        "\n",
        "#base model\n",
        "params_base = init_model(layer_sizes, keys[0])\n",
        "\n",
        "#adam model\n",
        "params_opt = init_model(layer_sizes, keys[1])\n",
        "optimizer = optax.adam(learning_rate=0.001)\n",
        "opt_state = optimizer.init(params_opt)\n",
        "\n",
        "#population of models\n",
        "population = []\n",
        "pop_states = []\n",
        "\n",
        "for i in range(population_size):\n",
        "  population.append(\n",
        "  init_model(layer_sizes, keys[i+2]))\n",
        "  if i%2==0:\n",
        "    pop_states.append(optimizer.init(population[i])) #half with adam\n",
        "  else:\n",
        "    pop_states.append(None) #half without\n"
      ],
      "metadata": {
        "id": "bU7WVm2n9Ouj"
      },
      "execution_count": 84,
      "outputs": []
    },
    {
      "cell_type": "markdown",
      "source": [
        "Half of our population will use base SGD and the other half use the optimizer so that we get the benefits of both (faster initial progress and capability to escape local minima). This is analagous to Heterogeneity."
      ],
      "metadata": {
        "id": "TV-DCsDgAXZv"
      }
    },
    {
      "cell_type": "markdown",
      "source": [
        "#Selection\n",
        "Selection is described in the paper as follows:\n",
        "1. the top rho individuals in the population comprise 60% of the gene pool\n",
        "2. the remaining 40% are randomly selected, where their chance of being selected is proportional to their performance"
      ],
      "metadata": {
        "id": "cckQC_X0_PPk"
      }
    },
    {
      "cell_type": "code",
      "source": [
        "def selection(population, test_accuracies, rho, rng):\n",
        "\n",
        "    combined = list(zip(test_accuracies, population))\n",
        "\n",
        "    ranked_combined = sorted(combined, key=lambda x: x[0])\n",
        "\n",
        "    # Extract the sorted population\n",
        "    ranked_population = [model for _, model in ranked_combined]\n",
        "    ranked_accuracies = [acc for acc, _ in ranked_combined]\n",
        "\n",
        "    top_rho, rest = ranked_population[-rho:], ranked_population[:-rho]\n",
        "    probabilities = ranked_accuracies[:-rho]\n",
        "\n",
        "    choices = random.choice(rng, jnp.arange(len(rest)), shape=(len(rest)//2, 1), replace=True, p=jnp.array(probabilities))\n",
        "\n",
        "    num_parents = len(population)\n",
        "    top_ratio = 0.6\n",
        "    num_top = int(top_ratio * num_parents)\n",
        "    top_repeats = num_top // len(top_rho)\n",
        "\n",
        "    parents = top_rho * top_repeats + [rest[choice[0]] for choice in choices]\n",
        "\n",
        "    return parents"
      ],
      "metadata": {
        "id": "wGNBg1Ai_RZC"
      },
      "execution_count": 47,
      "outputs": []
    },
    {
      "cell_type": "markdown",
      "source": [
        "#Recombination\n",
        "The recombination and mutation steps are defined as follows:"
      ],
      "metadata": {
        "id": "yrHMyN2u_cCy"
      }
    },
    {
      "cell_type": "markdown",
      "source": [
        "\\begin{equation}\n",
        "\\theta_i^{(k)} = \\frac{1}{\\rho} \\sum_{j=1}^{\\rho} \\theta_j^{(k)} + \\epsilon_i^{(k)}\n",
        "\\end{equation}\n",
        "\n",
        "where $\\theta_i \\in \\Psi_\\lambda^{(k)}$ (offspring population), $\\theta_j \\in \\Psi_\\mu^{(k)}$ (parent population) and $\\epsilon_i^{(k)} \\sim \\mathcal{N}(0, \\sigma_k^2)$. An annealing schedule may be applied to $\\sigma_k$"
      ],
      "metadata": {
        "id": "_6XScXIsIK0o"
      }
    },
    {
      "cell_type": "markdown",
      "source": [
        "This defines the offsprings' parameters as an average of the best performing parents and then adds some noise to represent mutation."
      ],
      "metadata": {
        "id": "QhYYQXyRI3Gn"
      }
    },
    {
      "cell_type": "code",
      "source": [
        "def average_population(population):\n",
        "    n_models = len(population)\n",
        "\n",
        "    # Transpose: layers → [(w1_from_all), (b1_from_all)], [(w2_from_all), ...]\n",
        "    transposed = list(zip(*population))\n",
        "\n",
        "    avg_model = []\n",
        "    for layer_params in transposed:\n",
        "        # layer_params = [(w1, b1), (w2, b2), ..., (wn, bn)] for this layer\n",
        "        ws, bs = zip(*layer_params)\n",
        "        avg_w = sum(ws) / n_models\n",
        "        avg_b = sum(bs) / n_models\n",
        "        avg_model.append((avg_w, avg_b))\n",
        "\n",
        "    return avg_model"
      ],
      "metadata": {
        "id": "3P0AFdVb_eiT"
      },
      "execution_count": 48,
      "outputs": []
    },
    {
      "cell_type": "markdown",
      "source": [
        "#Mutation\n",
        "The Mutation step also makes use of model backoff, where if a mutation leads to a degrade in performance, the equivalent index model from the previous population is kept instead."
      ],
      "metadata": {
        "id": "ARElQrpD_iY7"
      }
    },
    {
      "cell_type": "code",
      "source": [
        "def mutation(template, population, test_accuracies, rng, epoch, init_strength = 0.01):\n",
        "\n",
        "    offspring = [ [(w.copy(), b.copy()) for w, b in template] for _ in range(len(population)) ]\n",
        "\n",
        "    mutated_offspring = []\n",
        "    opt_states = []\n",
        "\n",
        "    total_layers = len(offspring[0])\n",
        "    keys = random.split(rng, len(offspring) * total_layers * 2)\n",
        "    key_idx = 0\n",
        "\n",
        "    strength = init_strength/(epoch+1) #annealing schedule\n",
        "\n",
        "    backoff = 0\n",
        "\n",
        "    for idx in range(len(offspring)):\n",
        "\n",
        "        new_model = []\n",
        "        for w, b in offspring[idx]:\n",
        "            kw, kb = keys[key_idx], keys[key_idx + 1]\n",
        "            key_idx += 2\n",
        "\n",
        "            #mask to limit the number of parameters mutated to avoid corrupting performance\n",
        "            mask_w = random.bernoulli(kw, p=0.2, shape=w.shape)  # 10% of weights\n",
        "            kw, subkey = random.split(kw)\n",
        "            noise_w = strength * random.normal(subkey, shape=w.shape) * mask_w\n",
        "\n",
        "            mask_b = random.bernoulli(kb, p=0.2, shape=b.shape)  # 10% of biases\n",
        "            kb, subkey = random.split(kb)\n",
        "            noise_b = strength * random.normal(kb, shape=b.shape)  * mask_b\n",
        "            new_model.append((w + noise_w, b + noise_b))\n",
        "\n",
        "        if accuracy(new_model, X_test, y_test_oh) < test_accuracies[idx] - 0.1: #margin to avoid backing off too frequently\n",
        "          backoff += 1\n",
        "          new_model = population[idx] #use parent if accuracy degrades\n",
        "\n",
        "        mutated_offspring.append(new_model)\n",
        "\n",
        "        if idx%2==0:\n",
        "          opt_states.append(optimizer.init(mutated_offspring[idx]))\n",
        "        else:\n",
        "          opt_states.append(None)\n",
        "\n",
        "    return mutated_offspring, opt_states, backoff"
      ],
      "metadata": {
        "id": "mBa3pCED_pAr"
      },
      "execution_count": 71,
      "outputs": []
    },
    {
      "cell_type": "markdown",
      "source": [
        "Lets combine these steps into one function that advances our population to the next generation"
      ],
      "metadata": {
        "id": "FvHbwxQe_srD"
      }
    },
    {
      "cell_type": "code",
      "source": [
        "def advance(population, rng, test_accuracies, rho, epoch):\n",
        "\n",
        "    parents = selection(population, test_accuracies, rho, rng)\n",
        "\n",
        "    template = average_population(parents)\n",
        "\n",
        "    offspring = [ [(w.copy(), b.copy()) for w, b in template] for _ in range(len(population)) ]\n",
        "\n",
        "    return mutation(template, population, test_accuracies, rng, epoch)\n",
        ""
      ],
      "metadata": {
        "id": "i6MPnDFAEB2C"
      },
      "execution_count": 50,
      "outputs": []
    },
    {
      "cell_type": "markdown",
      "source": [
        "The selection step means the population will give more weight to the gradient descent routes followed by the best performers. Averaging this population will cause the models to converge and if the population is spread evenly over the parameter space, should converge towards the global minimum. Mutation maintains genetic diversity so that the algorithm can effectively \"hedge its bets\" at the best route to take and helps avoid getting trapped in local minima."
      ],
      "metadata": {
        "id": "3HsqU1L9KvDd"
      }
    },
    {
      "cell_type": "markdown",
      "source": [
        "Now lets train the models in parallel and observe the results"
      ],
      "metadata": {
        "id": "LvAYYtz9E6og"
      }
    },
    {
      "cell_type": "code",
      "source": [
        "\n",
        "batch_size = 64\n",
        "num_epochs = 50\n",
        "\n",
        "base_train = []\n",
        "base_test = []\n",
        "base_loss = []\n",
        "\n",
        "opt_train = []\n",
        "opt_test = []\n",
        "opt_loss = []\n",
        "\n",
        "pop_train = []\n",
        "pop_test = []\n",
        "pop_loss = []\n",
        "\n",
        "backoff = []\n",
        "\n",
        "for epoch in range(num_epochs):\n",
        "\n",
        "    main_key, subkey = jax.random.split(main_key)\n",
        "\n",
        "    start_time = time.time()\n",
        "\n",
        "\n",
        "    for x_batch, y_batch in get_batches(X_train, y_train_oh, batch_size, subkey):\n",
        "      params_base, dummy, train_loss = update(params_base,  x_batch, y_batch)\n",
        "\n",
        "    epoch_time = time.time() - start_time\n",
        "\n",
        "    train_acc = accuracy(params_base, X_train, y_train_oh)\n",
        "    test_acc = accuracy(params_base, X_test, y_test_oh)\n",
        "    train_loss = loss(params_base, X_train, y_train_oh)\n",
        "\n",
        "    base_train.append(train_acc)\n",
        "    base_test.append(test_acc)\n",
        "    base_loss.append(train_loss)\n",
        "\n",
        "    if epoch % 10 == 0:\n",
        "      print(f\"Epoch {epoch:03d}: BASE Train Acc = {train_acc:.4f}, BASE Test Acc = {test_acc:.4f}, BASE Loss = {train_loss:.4f}\")\n",
        "      print(f\"Finished in {epoch_time}\")\n",
        "\n",
        "    start_time = time.time()\n",
        "\n",
        "    for x_batch, y_batch in get_batches(X_train, y_train_oh, batch_size, subkey):\n",
        "      params_opt, opt_state, train_loss = update(params_opt, x_batch, y_batch, opt_state)\n",
        "\n",
        "    epoch_time = time.time() - start_time\n",
        "\n",
        "    train_acc = accuracy(params_opt, X_train, y_train_oh)\n",
        "    test_acc = accuracy(params_opt, X_test, y_test_oh)\n",
        "    train_loss = loss(params_opt, X_train, y_train_oh)\n",
        "\n",
        "    opt_train.append(train_acc)\n",
        "    opt_test.append(test_acc)\n",
        "    opt_loss.append(train_loss)\n",
        "\n",
        "    if epoch % 10 == 0:\n",
        "      print(f\"Epoch {epoch:03d}: OPT Train Acc = {train_acc:.4f}, OPT Test Acc = {test_acc:.4f}, OPT Loss = {train_loss:.4f}\")\n",
        "      print(f\"Finished in {epoch_time}\")\n",
        "\n",
        "    pop_accs = []\n",
        "    ind_loss = []\n",
        "\n",
        "\n",
        "    new_population = []\n",
        "    new_pop_states = []\n",
        "\n",
        "    start_time = time.time()\n",
        "\n",
        "    for species, opt_state_ in zip(population, pop_states):\n",
        "        for x_batch, y_batch in get_batches(X_train, y_train_oh, batch_size, subkey):\n",
        "            species, opt_state_, train_loss = update(species, x_batch, y_batch, opt_state_)\n",
        "\n",
        "        train_acc = accuracy(species, X_train, y_train_oh)\n",
        "        test_acc = accuracy(species, X_test, y_test_oh)\n",
        "        train_loss = loss(species, X_train, y_train_oh)\n",
        "\n",
        "        pop_accs.append((train_acc, test_acc))\n",
        "        ind_loss.append(train_loss)\n",
        "\n",
        "        new_population.append(species)\n",
        "        new_pop_states.append(opt_state_)\n",
        "\n",
        "    pop_loss.append((max(ind_loss), min(ind_loss)))\n",
        "    population = new_population\n",
        "    pop_states = new_pop_states\n",
        "\n",
        "\n",
        "\n",
        "\n",
        "    pop_train.append((max([x[0] for x in pop_accs]), min([x[0] for x in pop_accs])))\n",
        "    pop_test.append((max([x[1] for x in pop_accs]), min([x[1] for x in pop_accs])))\n",
        "\n",
        "    population, pop_states, backoffs = advance(population, random.key(epoch), [x[1] for x in pop_accs], 10, epoch)\n",
        "\n",
        "    epoch_time = time.time() - start_time\n",
        "\n",
        "    backoff.append(backoffs)\n",
        "\n",
        "    if epoch % 10 == 0:\n",
        "      print(f\"Epoch {epoch:03d}: Pop max Train Acc = {max([x[0] for x in pop_accs]):.4f}, Pop max Test Acc = {max([x[1] for x in pop_accs]):.4f}, Pop min Loss = {min(ind_loss):.4f}\")\n",
        "      print(f\"Finished in {epoch_time}\")\n",
        "      print(\"\\n\")\n",
        "\n",
        "\n",
        "plt.plot(range(num_epochs), base_loss, label = \"Baseline loss\")\n",
        "\n",
        "plt.plot(range(num_epochs), opt_loss, label = \"Opt loss\")\n",
        "\n",
        "plt.fill_between(range(num_epochs), [x[0] for x in pop_loss], [x[1] for x in pop_loss], alpha=0.5, label='Population range loss')\n",
        "\n",
        "plt.xlabel(\"Epoch\")\n",
        "plt.ylabel(\"loss\")\n",
        "#plt.ylim(0, 0.5)\n",
        "plt.legend()\n",
        "plt.show()"
      ],
      "metadata": {
        "colab": {
          "base_uri": "https://localhost:8080/",
          "height": 1000
        },
        "id": "dyectelIE6Gp",
        "outputId": "5178432d-4e98-4cd9-8234-8878c3f037c6"
      },
      "execution_count": 86,
      "outputs": [
        {
          "output_type": "stream",
          "name": "stdout",
          "text": [
            "Epoch 000: BASE Train Acc = 0.8000, BASE Test Acc = 0.6667, BASE Loss = 0.5761\n",
            "Finished in 0.004055023193359375\n",
            "Epoch 000: OPT Train Acc = 0.7571, OPT Test Acc = 0.5667, OPT Loss = 0.5956\n",
            "Finished in 0.00635838508605957\n",
            "Epoch 000: Pop max Train Acc = 0.7786, Pop max Test Acc = 0.6833, Pop min Loss = 0.6157\n",
            "Finished in 0.388995885848999\n",
            "\n",
            "\n",
            "Epoch 010: BASE Train Acc = 0.8143, BASE Test Acc = 0.6500, BASE Loss = 0.5374\n",
            "Finished in 0.002884387969970703\n",
            "Epoch 010: OPT Train Acc = 0.7714, OPT Test Acc = 0.5833, OPT Loss = 0.5415\n",
            "Finished in 0.004196882247924805\n",
            "Epoch 010: Pop max Train Acc = 0.8000, Pop max Test Acc = 0.7000, Pop min Loss = 0.5474\n",
            "Finished in 0.31742334365844727\n",
            "\n",
            "\n",
            "Epoch 020: BASE Train Acc = 0.8000, BASE Test Acc = 0.6500, BASE Loss = 0.4943\n",
            "Finished in 0.003459453582763672\n",
            "Epoch 020: OPT Train Acc = 0.8000, OPT Test Acc = 0.6000, OPT Loss = 0.4991\n",
            "Finished in 0.004286527633666992\n",
            "Epoch 020: Pop max Train Acc = 0.8000, Pop max Test Acc = 0.7000, Pop min Loss = 0.4987\n",
            "Finished in 0.33041906356811523\n",
            "\n",
            "\n",
            "Epoch 030: BASE Train Acc = 0.8143, BASE Test Acc = 0.6833, BASE Loss = 0.4597\n",
            "Finished in 0.0032029151916503906\n",
            "Epoch 030: OPT Train Acc = 0.8143, OPT Test Acc = 0.6167, OPT Loss = 0.4670\n",
            "Finished in 0.00532984733581543\n",
            "Epoch 030: Pop max Train Acc = 0.8143, Pop max Test Acc = 0.7167, Pop min Loss = 0.4529\n",
            "Finished in 0.3056676387786865\n",
            "\n",
            "\n",
            "Epoch 040: BASE Train Acc = 0.8357, BASE Test Acc = 0.7000, BASE Loss = 0.4291\n",
            "Finished in 0.004869222640991211\n",
            "Epoch 040: OPT Train Acc = 0.8214, OPT Test Acc = 0.6500, OPT Loss = 0.4382\n",
            "Finished in 0.00475764274597168\n",
            "Epoch 040: Pop max Train Acc = 0.8357, Pop max Test Acc = 0.7333, Pop min Loss = 0.4122\n",
            "Finished in 0.47848939895629883\n",
            "\n",
            "\n"
          ]
        },
        {
          "output_type": "display_data",
          "data": {
            "text/plain": [
              "<Figure size 640x480 with 1 Axes>"
            ],
            "image/png": "[encoded data removed]"
          },
          "metadata": {}
        }
      ]
    },
    {
      "cell_type": "markdown",
      "source": [
        "This time the models' loss has been plotted and the population has been plotted as a band ranging from its best to worst performer at a given epoch. It is clear that at an evolutionary search can give rise to a much steeper descent of the loss function."
      ],
      "metadata": {
        "id": "LMdd2wOcMX6Y"
      }
    },
    {
      "cell_type": "markdown",
      "source": [
        "Lets now plot the number o"
      ],
      "metadata": {
        "id": "kWGEBNCXF8ko"
      }
    },
    {
      "cell_type": "code",
      "source": [
        "generations = list(range(len(backoff)))\n",
        "backoff_percent = [100 * b / population_size for b in backoff]\n",
        "\n",
        "#print(backoff)\n",
        "\n",
        "plt.figure(figsize=(6, 4))\n",
        "plt.bar(generations, backoff_percent, color='gray', width=0.6)\n",
        "\n",
        "plt.xlabel(\"Generation\")\n",
        "plt.ylabel(\"% offsprings backed off\")\n",
        "plt.title(\"Backoff Percentage per Generation\")\n",
        "plt.ylim(0, 100)\n",
        "plt.grid(axis='y', linestyle='--', alpha=0.6)\n",
        "plt.tight_layout()\n",
        "plt.show()"
      ],
      "metadata": {
        "colab": {
          "base_uri": "https://localhost:8080/",
          "height": 407
        },
        "id": "iprTEPWFF904",
        "outputId": "f9e7cbc2-3515-40a9-9110-e6c13aba9bae"
      },
      "execution_count": 88,
      "outputs": [
        {
          "output_type": "display_data",
          "data": {
            "text/plain": [
              "<Figure size 600x400 with 1 Axes>"
            ],
            "image/png": "[encoded data removed]"
          },
          "metadata": {}
        }
      ]
    },
    {
      "cell_type": "markdown",
      "source": [
        "This graph shows the percentage of models backed off to the previous generation at each epoch. Hyperparameters need tuning to produce results like those in the paper."
      ],
      "metadata": {
        "id": "I8KQ8wS-MscO"
      }
    },
    {
      "cell_type": "markdown",
      "source": [
        "Experimenting with a toy model of ESGD has demonstrated its potential to enhance performance optimization when used alongside gradient descent methods, while also highlighting its substantial increase in memory usage and compute time. The algorithm also suffers from over-hyperparameterisation meaning an extensive grid search may be required for a given problem."
      ],
      "metadata": {
        "id": "GUP3t82NNawP"
      }
    }
  ]
}